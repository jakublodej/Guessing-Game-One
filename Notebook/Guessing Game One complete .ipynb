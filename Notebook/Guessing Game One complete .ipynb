{
 "cells": [
  {
   "cell_type": "code",
   "execution_count": 1,
   "metadata": {},
   "outputs": [
    {
     "name": "stdout",
     "output_type": "stream",
     "text": [
      "2\n",
      "What number do i have ? Guess from 1 to 9 : 5\n",
      "Type the lower number: 3\n",
      "Type the lower number: 1\n",
      "Type the higher number: 2\n",
      "Congrats. You have guessed the number using 4 guesses\n"
     ]
    }
   ],
   "source": [
    "import random\n",
    "a= int(random.randint(1,9))\n",
    "print(a)\n",
    "question=int(input('What number do i have ? Guess from 1 to 9 : '))\n",
    "if question == a :\n",
    "    print ('That is ok !')    \n",
    "if question != a :\n",
    "    count = 1\n",
    "    while (question > a):\n",
    "        count += 1\n",
    "        question = int(input('Type the lower number: '))   \n",
    "    while (question < a):\n",
    "        count += 1\n",
    "        question = int(input('Type the higher number: '))\n",
    "    if question == a:\n",
    "        print('Congrats. You have guessed the number using %d guesses'%count)"
   ]
  }
 ],
 "metadata": {
  "kernelspec": {
   "display_name": "Python 3",
   "language": "python",
   "name": "python3"
  },
  "language_info": {
   "codemirror_mode": {
    "name": "ipython",
    "version": 3
   },
   "file_extension": ".py",
   "mimetype": "text/x-python",
   "name": "python",
   "nbconvert_exporter": "python",
   "pygments_lexer": "ipython3",
   "version": "3.6.5"
  }
 },
 "nbformat": 4,
 "nbformat_minor": 2
}
