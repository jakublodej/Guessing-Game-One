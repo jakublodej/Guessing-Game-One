{
 "cells": [
  {
   "cell_type": "code",
   "execution_count": null,
   "metadata": {},
   "outputs": [],
   "source": [
    "import random\n",
    "a= random.randint(1,9)\n",
    "print(a)\n",
    "count=1\n",
    "q=int(input('Which number i have ? Guess'))\n",
    "\n",
    "while (q < a) :\n",
    "    count = count + 1\n",
    "    q = int(input('Secret number is bigger. Try again')\n",
    "          \n",
    "if q == a:\n",
    "    break               \n",
    "    return ('you found your number using %d guesses'%count)                   "
   ]
  },
  {
   "cell_type": "code",
   "execution_count": null,
   "metadata": {},
   "outputs": [],
   "source": [
    "import random\n",
    "a = int(random.randint(1,9))\n",
    "print (a)\n",
    "b = int(input(\" Please guess a number from 1 to 9: \"))\n",
    "\n",
    "if (b == a):\n",
    "    print (\"congrats you guessed the number using 1 guess \" )\n",
    "if (b!=a):\n",
    "    count = 1\n",
    "while (b < a):\n",
    "    count = count + 1\n",
    "    b = input(\" Please make another guess higher than before: \")\n",
    "while (b > a):\n",
    "    count = count + 1\n",
    "    b = input(\" Please make another guess lower than before: \")\n",
    "if (b == a):\n",
    "    print (\"congrats you guessed the number using %d guesses\" %count)"
   ]
  },
  {
   "cell_type": "code",
   "execution_count": null,
   "metadata": {},
   "outputs": [],
   "source": []
  }
 ],
 "metadata": {
  "kernelspec": {
   "display_name": "Python 3",
   "language": "python",
   "name": "python3"
  },
  "language_info": {
   "codemirror_mode": {
    "name": "ipython",
    "version": 3
   },
   "file_extension": ".py",
   "mimetype": "text/x-python",
   "name": "python",
   "nbconvert_exporter": "python",
   "pygments_lexer": "ipython3",
   "version": "3.6.5"
  }
 },
 "nbformat": 4,
 "nbformat_minor": 2
}
